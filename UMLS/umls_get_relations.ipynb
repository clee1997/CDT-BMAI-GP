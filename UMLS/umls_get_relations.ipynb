{
 "cells": [
  {
   "cell_type": "markdown",
   "metadata": {},
   "source": [
    "## [UMLS API Doc](https://documentation.uts.nlm.nih.gov/rest/home.html)"
   ]
  },
  {
   "cell_type": "markdown",
   "metadata": {},
   "source": [
    "### 0. Include your UMLS API key in the .env file."
   ]
  },
  {
   "cell_type": "code",
   "execution_count": null,
   "metadata": {},
   "outputs": [],
   "source": [
    "import os\n",
    "from dotenv import load_dotenv\n",
    "\n",
    "load_dotenv()\n",
    "api_key = os.getenv('UMLS_API_KEY')"
   ]
  },
  {
   "cell_type": "markdown",
   "metadata": {},
   "source": [
    "### 1. Get example CUIs from Biolama-UMLS"
   ]
  },
  {
   "cell_type": "code",
   "execution_count": 1,
   "metadata": {},
   "outputs": [
    {
     "name": "stderr",
     "output_type": "stream",
     "text": [
      "/Users/chaeeunlee/anaconda3/envs/mediqa/lib/python3.10/site-packages/tqdm/auto.py:21: TqdmWarning: IProgress not found. Please update jupyter and ipywidgets. See https://ipywidgets.readthedocs.io/en/stable/user_install.html\n",
      "  from .autonotebook import tqdm as notebook_tqdm\n"
     ]
    },
    {
     "name": "stdout",
     "output_type": "stream",
     "text": [
      "Index(['uuid', 'predicate_id', 'sub_uri', 'sub_label', 'sub_type',\n",
      "       'sub_aliases', 'sub_alias_scores', 'obj_uris', 'obj_labels',\n",
      "       'obj_types', 'obj_aliases'],\n",
      "      dtype='object')\n",
      "example CUI: C0118168, label: fosinopril\n"
     ]
    }
   ],
   "source": [
    "from datasets import load_dataset\n",
    "import pandas as pd\n",
    "\n",
    "\n",
    "#https://huggingface.co/datasets/CDT-BMAI-GP/Biolama-UMLS\n",
    "\n",
    "dataset = load_dataset(\"CDT-BMAI-GP/Biolama-UMLS\")\n",
    "train_df = pd.DataFrame(dataset['validation'])\n",
    "\n",
    "print(train_df.columns)\n",
    "\n",
    "example_idx = 3\n",
    "example_cui = train_df['sub_uri'][example_idx]\n",
    "\n",
    "print(f\"example CUI: {example_cui}, label: {train_df['sub_label'][example_idx]}\")\n",
    "\n"
   ]
  },
  {
   "cell_type": "markdown",
   "metadata": {},
   "source": [
    "### 2. Get source-specific identifiers associated with the CUI\n",
    "\n",
    "(NLM does not assert parent or child relationships between concepts.)\n",
    "\n",
    "View source vocabularies below.\n",
    "\n",
    "- [UMLS Source Vocabularies](https://www.nlm.nih.gov/research/umls/new_users/online_learning/Meta_002.html)\n",
    "\n",
    "- [UMLS Metathesaurus Vocabulary Documentation](https://www.nlm.nih.gov/research/umls/sourcereleasedocs/index.html)"
   ]
  },
  {
   "cell_type": "code",
   "execution_count": 2,
   "metadata": {},
   "outputs": [],
   "source": [
    "from umls_api_wrappers import get_all_relations, get_related_entities, simple_url_request # , crosswalk\n",
    "\n",
    "relation_types = ['parents', 'children', 'ancestors', 'descendants', 'relations']"
   ]
  },
  {
   "cell_type": "code",
   "execution_count": 3,
   "metadata": {},
   "outputs": [
    {
     "name": "stdout",
     "output_type": "stream",
     "text": [
      "https://uts-ws.nlm.nih.gov/rest/content/current/CUI/C0118168/relations?apiKey=19f1ce1b-5bd6-4448-9cdf-0e01f9fa4456\n",
      "Root Source: RXNORM\n",
      "Root Source: SNOMEDCT_US\n",
      "Root Source: RXNORM\n",
      "Root Source: SNOMEDCT_US\n",
      "Root Source: SCTSPA\n",
      "Root Source: SNOMEDCT_US\n",
      "Root Source: SCTSPA\n",
      "Root Source: SCTSPA\n",
      "Root Source: RXNORM\n",
      "Root Source: RXNORM\n",
      "Root Source: ATC\n",
      "Root Source: LNC\n",
      "Root Source: LNC\n",
      "Root Source: SNOMEDCT_US\n",
      "Root Source: SCTSPA\n",
      "Root Source: MED-RT\n",
      "Root Source: MED-RT\n",
      "Root Source: MED-RT\n",
      "Root Source: MSH\n",
      "Root Source: MED-RT\n",
      "Root Source: MED-RT\n",
      "Root Source: MED-RT\n",
      "Root Source: MED-RT\n",
      "Root Source: RXNORM\n",
      "Root Source: RXNORM\n",
      "('SNOMEDCT_US', '372510000', 'Fosinopril')\n",
      "('SCTSPA', '372510000', 'fosinopril')\n",
      "('MSH', 'D017328', 'Fosinopril')\n",
      "('LNC', 'LP171400-7', 'Fosinopril')\n",
      "('SNOMEDCT_US', '108569005', 'Fosinopril-containing product')\n",
      "('RXNORM', '50166', 'fosinopril')\n",
      "('AUI', 'A22731561', 'fosinopril')\n",
      "('SCTSPA', '108569005', 'producto con fosinopril')\n"
     ]
    }
   ],
   "source": [
    "\n",
    "relations = get_all_relations(example_cui)\n",
    "\n",
    "results = relations['result']\n",
    "# \"relatedFromId\" \"relatedFromIdName\"\n",
    "\n",
    "for res in results:\n",
    "    print(f\"Root Source: {res['rootSource']}\")\n",
    "\n",
    "source_specific_nodes = []\n",
    "for res in results:\n",
    "    components = res['relatedFromId'].split('/')\n",
    "    source, source_id = components[-2], components[-1]\n",
    "    label = res['relatedFromIdName']\n",
    "    \n",
    "    source_specific_nodes.append((source, source_id, label))\n",
    "    \n",
    "\n",
    "source_specific_nodes = set(source_specific_nodes)\n",
    "\n",
    "# for res in results:\n",
    "#     print(res)\n",
    "    # print(f\"Root Source: {res['rootSource']}\")\n",
    "\n",
    "for node in source_specific_nodes:\n",
    "    print(node)\n",
    "    "
   ]
  },
  {
   "cell_type": "markdown",
   "metadata": {},
   "source": [
    "### 3. Retrieve all {'parents', 'children', 'ancestors', 'descendants' or 'relations'} of a source-asserted identifier. \n",
    "\n",
    "(NLM does not assert parent or child relationships between concepts.)"
   ]
  },
  {
   "cell_type": "code",
   "execution_count": 4,
   "metadata": {},
   "outputs": [
    {
     "name": "stdout",
     "output_type": "stream",
     "text": [
      "https://uts-ws.nlm.nih.gov/rest/content/current/source/MSH/D017328/parents?apiKey=19f1ce1b-5bd6-4448-9cdf-0e01f9fa4456\n",
      "{'parents': 'https://uts-ws.nlm.nih.gov/rest/content/2023AB/source/MSH/D010721/parents?apiKey=19f1ce1b-5bd6-4448-9cdf-0e01f9fa4456', 'children': 'https://uts-ws.nlm.nih.gov/rest/content/2023AB/source/MSH/D010721/children?apiKey=19f1ce1b-5bd6-4448-9cdf-0e01f9fa4456', 'ancestors': 'https://uts-ws.nlm.nih.gov/rest/content/2023AB/source/MSH/D010721/ancestors?apiKey=19f1ce1b-5bd6-4448-9cdf-0e01f9fa4456', 'descendants': 'https://uts-ws.nlm.nih.gov/rest/content/2023AB/source/MSH/D010721/descendants?apiKey=19f1ce1b-5bd6-4448-9cdf-0e01f9fa4456', 'relations': 'https://uts-ws.nlm.nih.gov/rest/content/2023AB/source/MSH/D010721/relations?apiKey=19f1ce1b-5bd6-4448-9cdf-0e01f9fa4456'}\n"
     ]
    }
   ],
   "source": [
    "# query_example = ('RXNORM', '50166', 'fosinopril') -> doesn't provide parent/child relations\n",
    "\n",
    "relation_query_res = get_related_entities('D017328', source='MSH', relation='parents')\n",
    "\n",
    "rel_types = {}\n",
    "for rel_type in relation_types:\n",
    "    \n",
    "    rel_types[rel_type] = relation_query_res['result'][0][rel_type] + f'?apiKey={api_key}' if relation_query_res['result'][0][rel_type] else None\n",
    "    \n",
    "    \n",
    "print(rel_types)"
   ]
  },
  {
   "cell_type": "code",
   "execution_count": 5,
   "metadata": {},
   "outputs": [
    {
     "data": {
      "text/plain": [
       "{'pageSize': 25,\n",
       " 'pageNumber': 1,\n",
       " 'pageCount': 1,\n",
       " 'result': [{'classType': 'SourceAtomCluster',\n",
       "   'ui': 'D010721',\n",
       "   'suppressible': False,\n",
       "   'obsolete': False,\n",
       "   'rootSource': 'MSH',\n",
       "   'atomCount': 6,\n",
       "   'cVMemberCount': 0,\n",
       "   'attributes': 'https://uts-ws.nlm.nih.gov/rest/content/2023AB/source/MSH/D010721/attributes',\n",
       "   'atoms': 'https://uts-ws.nlm.nih.gov/rest/content/2023AB/source/MSH/D010721/atoms',\n",
       "   'ancestors': 'https://uts-ws.nlm.nih.gov/rest/content/2023AB/source/MSH/D010721/ancestors',\n",
       "   'parents': 'https://uts-ws.nlm.nih.gov/rest/content/2023AB/source/MSH/D010721/parents',\n",
       "   'children': 'https://uts-ws.nlm.nih.gov/rest/content/2023AB/source/MSH/D010721/children',\n",
       "   'descendants': 'https://uts-ws.nlm.nih.gov/rest/content/2023AB/source/MSH/D010721/descendants',\n",
       "   'relations': 'https://uts-ws.nlm.nih.gov/rest/content/2023AB/source/MSH/D010721/relations',\n",
       "   'definitions': 'NONE',\n",
       "   'concepts': 'https://uts-ws.nlm.nih.gov/rest/search/2023AB?string=D010721&sabs=MSH&searchType=exact&inputType=sourceUi',\n",
       "   'defaultPreferredAtom': 'https://uts-ws.nlm.nih.gov/rest/content/2023AB/source/MSH/D010721/atoms/preferred',\n",
       "   'name': 'Phosphinic Acids'},\n",
       "  {'classType': 'SourceAtomCluster',\n",
       "   'ui': 'D011392',\n",
       "   'suppressible': False,\n",
       "   'obsolete': False,\n",
       "   'rootSource': 'MSH',\n",
       "   'atomCount': 4,\n",
       "   'cVMemberCount': 0,\n",
       "   'attributes': 'https://uts-ws.nlm.nih.gov/rest/content/2023AB/source/MSH/D011392/attributes',\n",
       "   'atoms': 'https://uts-ws.nlm.nih.gov/rest/content/2023AB/source/MSH/D011392/atoms',\n",
       "   'ancestors': 'https://uts-ws.nlm.nih.gov/rest/content/2023AB/source/MSH/D011392/ancestors',\n",
       "   'parents': 'https://uts-ws.nlm.nih.gov/rest/content/2023AB/source/MSH/D011392/parents',\n",
       "   'children': 'https://uts-ws.nlm.nih.gov/rest/content/2023AB/source/MSH/D011392/children',\n",
       "   'descendants': 'https://uts-ws.nlm.nih.gov/rest/content/2023AB/source/MSH/D011392/descendants',\n",
       "   'relations': 'https://uts-ws.nlm.nih.gov/rest/content/2023AB/source/MSH/D011392/relations',\n",
       "   'definitions': 'NONE',\n",
       "   'concepts': 'https://uts-ws.nlm.nih.gov/rest/search/2023AB?string=D011392&sabs=MSH&searchType=exact&inputType=sourceUi',\n",
       "   'defaultPreferredAtom': 'https://uts-ws.nlm.nih.gov/rest/content/2023AB/source/MSH/D011392/atoms/preferred',\n",
       "   'name': 'Proline'}]}"
      ]
     },
     "execution_count": 5,
     "metadata": {},
     "output_type": "execute_result"
    }
   ],
   "source": [
    "relation_query_res"
   ]
  }
 ],
 "metadata": {
  "kernelspec": {
   "display_name": "gp",
   "language": "python",
   "name": "python3"
  },
  "language_info": {
   "codemirror_mode": {
    "name": "ipython",
    "version": 3
   },
   "file_extension": ".py",
   "mimetype": "text/x-python",
   "name": "python",
   "nbconvert_exporter": "python",
   "pygments_lexer": "ipython3",
   "version": "3.10.13"
  }
 },
 "nbformat": 4,
 "nbformat_minor": 2
}
